{
  "nbformat": 4,
  "nbformat_minor": 0,
  "metadata": {
    "colab": {
      "provenance": []
    },
    "kernelspec": {
      "name": "python3",
      "display_name": "Python 3"
    },
    "language_info": {
      "name": "python"
    }
  },
  "cells": [
    {
      "cell_type": "markdown",
      "source": [
        "# Chapter 5 Resampling Methods"
      ],
      "metadata": {
        "id": "UtrICyNldn-L"
      }
    },
    {
      "cell_type": "markdown",
      "source": [
        "# 5.0 Ideas\n",
        "* Resampling methods - Tool used to constantly resample the data to improve the accuracy of the model\n",
        "\n",
        "* Most commonly used ones are **Bootsraping** and **Cross Validation**\n",
        "\n",
        "* Highly costly computationally wise but in todays age, computers are extremely fast so less of an issue.\n",
        "\n",
        "* **Model Assesment**- assessing a models performance\n",
        "\n",
        "* **Model Selection** - selecting the correct level of flexibility\n",
        "\n",
        "* Use cross validation to assess a models test error rate to find its performance or dictate the level of flexibility that is best.\n",
        "\n",
        "* Use bootstrap most commonly used to provide a measure of accuracy of a parameter measurement or of a given statistical learning method\n",
        "\n"
      ],
      "metadata": {
        "id": "tcTX_K9Ie2-9"
      }
    },
    {
      "cell_type": "markdown",
      "source": [
        "## 5.1 Cross Validation"
      ],
      "metadata": {
        "id": "Z3FfiPKBfu05"
      }
    },
    {
      "cell_type": "code",
      "source": [],
      "metadata": {
        "id": "FxvJ0RxHgYc0"
      },
      "execution_count": null,
      "outputs": []
    }
  ]
}