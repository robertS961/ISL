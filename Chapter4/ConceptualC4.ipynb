{
  "nbformat": 4,
  "nbformat_minor": 0,
  "metadata": {
    "colab": {
      "provenance": [],
      "toc_visible": true
    },
    "kernelspec": {
      "name": "python3",
      "display_name": "Python 3"
    },
    "language_info": {
      "name": "python"
    }
  },
  "cells": [
    {
      "cell_type": "markdown",
      "source": [
        "## Question 1 - Using a little bit of algebra, prove that (4.2) is equivalent to (4.3). In other words, the logistic function representation and logit representation for the logistic regression model are equivalent."
      ],
      "metadata": {
        "id": "rCabMoBzS2eI"
      }
    },
    {
      "cell_type": "markdown",
      "source": [
        "## Question 2 - It was stated in the text that classifying an observation to the class for which (4.17) is largest is equivalent to classifying an observation to the class for which (4.18) is largest. Prove that this is the case. In other words, under the assumption that the observations in the kth class are drawn from a N(µk, σ2) distribution, the Bayes classifer assigns an observation to the class for which the discriminant function |is maximized."
      ],
      "metadata": {
        "id": "0kfgz1mz0azG"
      }
    },
    {
      "cell_type": "markdown",
      "source": [
        "## Question 3 - This problem relates to the QDA model, in which the observations within each class are drawn from a normal distribution with a classspecifc mean vector and a class specifc covariance matrix. We consider the simple case where p = 1; i.e. there is only one feature. Suppose that we have K classes, and that if an observation belongs to the kth class then X comes from a one-dimensional normal distribution, X ∼ N(µk, σ2 k). Recall that the density function for the one-dimensional normal distribution is given in (4.16). Prove that in this case, the Bayes classifer is not linear. Argue that it is in fact quadratic."
      ],
      "metadata": {
        "id": "bH0j3aux0kal"
      }
    },
    {
      "cell_type": "markdown",
      "source": [
        "## Question 4 - When the number of features p is large, there tends to be a deterioration in the performance of KNN and other local approaches that perform prediction using only observations that are near the test observation for which a prediction must be made. This phenomenon is known as the curse of dimensionality, and it ties into the fact that curse of dimensionality non-parametric approaches often perform poorly when p is large. We will now investigate this curse.\n",
        "\n",
        "### a -  Suppose that we have a set of observations, each with measurements on p = 1 feature, X. We assume that X is uniformly (evenly) distributed on [0, 1]. Associated with each observation is a response value. Suppose that we wish to predict a test observation’s response using only observations that are within 10 % of the range of X closest to that test observation. For instance, in order to predict the response for a test observation with X = 0.6, we will use observations in the range [0.55, 0.65]. On average, what fraction of the available observations will we use to make the prediction?\n",
        "\n",
        "### b -  Now suppose that we have a set of observations, each with measurements on p = 2 features, X1 and X2. We assume that (X1, X2) are uniformly distributed on [0, 1] × [0, 1]. We wish to predict a test observation’s response using only observations that are within 10 % of the range of X1 and within 10 % of the range of X2 closest to that test observation. For instance, in order to predict the response for a test observation with X1 = 0.6 and X2 = 0.35, we will use observations in the range [0.55, 0.65] for X1 and in the range [0.3, 0.4] for X2. On average, what fraction of the available observations will we use to make the prediction?\n",
        "\n",
        "### c - Now suppose that we have a set of observations on p = 100 features. Again the observations are uniformly distributed on each feature, and again each feature ranges in value from 0 to 1. We wish to predict a test observation’s response using observations within the 10 % of each feature’s range that is closest to that test observation. What fraction of the available observations will we use to make the prediction?\n",
        "\n",
        "### d -  Using your answers to parts (a)–(c), argue that a drawback of KNN when p is large is that there are very few training observations “near” any given test observation.\n",
        "\n",
        "### e - Now suppose that we wish to make a prediction for a test observation by creating a p-dimensional hypercube centered around the test observation that contains, on average, 10 % of the training observations. For p = 1, 2, and 100, what is the length of each side of the hypercube? Comment on your answer.\n"
      ],
      "metadata": {
        "id": "2-ec9lFQ0ucu"
      }
    },
    {
      "cell_type": "markdown",
      "source": [
        "## Question 5 - We now examine the diferences between LDA and QDA.\n",
        "\n",
        "### a -If the Bayes decision boundary is linear, do we expect LDA or QDA to perform better on the training set? On the test set?\n",
        "\n",
        "### b -  If the Bayes decision boundary is non-linear, do we expect LDA or QDA to perform better on the training set? On the test set?\n",
        "\n",
        "### c - In general, as the sample size n increases, do we expect the test prediction accuracy of QDA relative to LDA to improve, decline, or be unchanged? Why?\n",
        "\n",
        "### d - True or False: Even if the Bayes decision boundary for a given problem is linear, we will probably achieve a superior test error rate using QDA rather than LDA because QDA is fexible enough to model a linear decision boundary. Justify your answer.\n"
      ],
      "metadata": {
        "id": "Rk379TZ01ch7"
      }
    },
    {
      "cell_type": "markdown",
      "source": [
        "## Question 6 - Suppose we collect data for a group of students in a statistics class with variables X1 = hours studied, X2 = undergrad GPA, and Y = receive an A. We ft a logistic regression and produce estimated coefcient, βˆ0 = −6, βˆ1 = 0.05, βˆ2 = 1.\n",
        "\n",
        "### a - Estimate the probability that a student who studies for 40 h and has an undergrad GPA of 3.5 gets an A in the class.\n",
        "\n",
        "### b -  How many hours would the student in part (a) need to study to have a 50 % chance of getting an A in the class?\n",
        "\n"
      ],
      "metadata": {
        "id": "UWSL7-e21xuj"
      }
    },
    {
      "cell_type": "markdown",
      "source": [
        "## Question 7 - Suppose that we wish to predict whether a given stock will issue a dividend this year (“Yes” or “No”) based on X, last year’s percent proft. We examine a large number of companies and discover that the mean value of X for companies that issued a dividend was X¯ = 10, while the mean for those that didn’t was X¯ = 0. In addition, the variance of X for these two sets of companies was σˆ2 = 36. Finally, 80 % of companies issued dividends. Assuming that X follows a normal distribution, predict the probability that a company will issue a dividend this year given that its percentage proft was X = 4 last year."
      ],
      "metadata": {
        "id": "AGqeslDG2GuG"
      }
    },
    {
      "cell_type": "markdown",
      "source": [
        "## Question 8 -  Suppose that we take a data set, divide it into equally-sized training and test sets, and then try out two diferent classifcation procedures. First we use logistic regression and get an error rate of 20 % on the training data and 30 % on the test data. Next we use 1-nearest neighbors (i.e. K = 1) and get an average error rate (averaged over both test and training data sets) of 18 %. Based on these results, which method should we prefer to use for classifcation of new observations? Why?"
      ],
      "metadata": {
        "id": "3bpX7g_92Qde"
      }
    },
    {
      "cell_type": "markdown",
      "source": [
        "## Question 9 - This problem has to do with odds.\n",
        "\n",
        "### a - On average, what fraction of people with an odds of 0.37 of defaulting on their credit card payment will in fact default?\n",
        "\n",
        "### b -  Suppose that an individual has a 16 % chance of defaulting onher credit card payment. What are the odds that she will default?"
      ],
      "metadata": {
        "id": "vAAIpy-z2Z-m"
      }
    },
    {
      "cell_type": "markdown",
      "source": [
        "## Question 10 - Equation 4.32 derived an expression for log 1 Pr(Y =k|X=x)Pr(Y =K|X=x) 2 in the setting where p > 1, so that the mean for the kth class, µk, is a pdimensional vector, and the shared covariance Σ is a p × p matrix. However, in the setting with p = 1, (4.32) takes a simpler form, since the means µ1,...,µK and the variance σ2 are scalars. In this simpler setting, repeat the calculation in (4.32), and provide expressions for ak and bkj in terms of πk, πK, µk, µK, and σ2."
      ],
      "metadata": {
        "id": "kHp0fqfe2nN2"
      }
    },
    {
      "cell_type": "markdown",
      "source": [
        "## Question 11 -Work out the detailed forms of ak, bkj , and bkjl in (4.33). Your answer should involve πk, πK, µk, µK, Σk, and ΣK."
      ],
      "metadata": {
        "id": "kl__wjsc2tqZ"
      }
    },
    {
      "cell_type": "markdown",
      "source": [
        "## Question 12 - Suppose that you wish to classify an observation X ∈ R into apples and oranges. You ft a logistic regression model and fnd that Pr( 6 Y = orange|X = x) = exp(βˆ0 + βˆ1x) 1 + exp(βˆ0 + βˆ1x) . Your friend fts a logistic regression model to the same data using thesoftmax formulation in (4.13), and fnds that Pr( 6 Y = orange|X = x) = exp(ˆαorange0 + ˆαorange1x) exp(ˆαorange0 + ˆαorange1x) + exp(ˆαapple0 + ˆαapple1x) .\n",
        "\n",
        "### a - What is the log odds of orange versus apple in your model?\n",
        "\n",
        "### b - What is the log odds of orange versus apple in your friend’s model?\n",
        "\n",
        "### c - Suppose that in your model, βˆ0 = 2 and βˆ1 = −1. What are the coefcient estimates in your friend’s model? Be as specifc as possible.\n",
        "\n",
        "### d - Now suppose that you and your friend ft the same two models on a diferent data set. This time, your friend gets the coefcient estimates αˆorange0 = 1.2, αˆorange1 = −2, αˆorange0 = 3, αˆorange1 = 0.6. What are the coefcient estimates in your model?\n",
        "\n",
        "### e - Finally, suppose you apply both models from (d) to a data set with 2,000 test observations. What fraction of the time do you expect the predicted class labels from your model to agree with those from your friend’s model? Explain your answer.\n"
      ],
      "metadata": {
        "id": "KZHh5SG0oVLj"
      }
    }
  ]
}